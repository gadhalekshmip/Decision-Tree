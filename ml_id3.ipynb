{
  "cells": [
    {
      "cell_type": "markdown",
      "metadata": {
        "id": "view-in-github",
        "colab_type": "text"
      },
      "source": [
        "<a href=\"https://colab.research.google.com/github/gadhalekshmip/Decision-Tree/blob/main/ml_id3.ipynb\" target=\"_parent\"><img src=\"https://colab.research.google.com/assets/colab-badge.svg\" alt=\"Open In Colab\"/></a>"
      ]
    },
    {
      "cell_type": "code",
      "execution_count": 1,
      "id": "ca3b0cbd",
      "metadata": {
        "id": "ca3b0cbd"
      },
      "outputs": [],
      "source": [
        "import numpy as np\n",
        "import pandas as pd\n",
        "from sklearn.model_selection import train_test_split\n",
        "from sklearn.datasets import load_iris\n",
        "from sklearn.tree import DecisionTreeClassifier"
      ]
    },
    {
      "cell_type": "code",
      "execution_count": 2,
      "id": "a284a8f2",
      "metadata": {
        "id": "a284a8f2"
      },
      "outputs": [],
      "source": [
        "data = load_iris()\n",
        "X = data.data\n",
        "y = data.target\n"
      ]
    },
    {
      "cell_type": "code",
      "execution_count": 3,
      "id": "c3270131",
      "metadata": {
        "id": "c3270131"
      },
      "outputs": [],
      "source": [
        "X_train,X_test,y_train,y_test = train_test_split(X,y,test_size = 0.2)\n"
      ]
    },
    {
      "cell_type": "code",
      "execution_count": 4,
      "id": "d5261525",
      "metadata": {
        "id": "d5261525"
      },
      "outputs": [],
      "source": [
        "model = DecisionTreeClassifier(criterion = 'entropy')\n",
        "model.fit(X_train,y_train)\n",
        "y_pred = model.predict(X_test)"
      ]
    },
    {
      "cell_type": "code",
      "execution_count": 5,
      "id": "93fadb37",
      "metadata": {
        "colab": {
          "base_uri": "https://localhost:8080/"
        },
        "id": "93fadb37",
        "outputId": "d61f4910-78c9-45ab-90bb-9321ef487a4b"
      },
      "outputs": [
        {
          "output_type": "stream",
          "name": "stdout",
          "text": [
            "mean absolote error: 0.03333333333333333\n",
            "mean squared error: 0.03333333333333333\n",
            "root mean absolote error: 0.18257418583505536\n",
            "accuracy score:  0.9666666666666667\n"
          ]
        }
      ],
      "source": [
        "from sklearn import metrics\n",
        "print('mean absolote error:',metrics.mean_absolute_error(y_test,y_pred))\n",
        "print('mean squared error:',metrics.mean_squared_error(y_test,y_pred))\n",
        "print('root mean absolote error:',np.sqrt(metrics.mean_absolute_error(y_test,y_pred)))\n",
        "print('accuracy score: ',model.score(X_test,y_test))     "
      ]
    },
    {
      "cell_type": "code",
      "execution_count": 6,
      "id": "aa230049",
      "metadata": {
        "colab": {
          "base_uri": "https://localhost:8080/"
        },
        "id": "aa230049",
        "outputId": "e5490e60-4831-4047-8446-a1626647fc45"
      },
      "outputs": [
        {
          "output_type": "stream",
          "name": "stdout",
          "text": [
            "3fc\n"
          ]
        }
      ],
      "source": [
        "new_sample = [6.7,3.3,5.7,2.5]\n",
        "test = model.predict([new_sample])\n",
        "for i in test:\n",
        "    if i == 0:\n",
        "        print(\"i1\")\n",
        "    elif i == 2:\n",
        "        print(\"3fc\")\n",
        "    elif i == 3:\n",
        "        print(\"dfs\")\n",
        "        "
      ]
    },
    {
      "cell_type": "code",
      "execution_count": 7,
      "id": "e2cb0c75",
      "metadata": {
        "colab": {
          "base_uri": "https://localhost:8080/"
        },
        "id": "e2cb0c75",
        "outputId": "75091f39-17bd-4f3f-b085-7bffff6bf0b8"
      },
      "outputs": [
        {
          "output_type": "stream",
          "name": "stdout",
          "text": [
            "|--- petal width (cm) <= 0.75\n",
            "|   |--- class: 0\n",
            "|--- petal width (cm) >  0.75\n",
            "|   |--- petal width (cm) <= 1.75\n",
            "|   |   |--- petal length (cm) <= 4.95\n",
            "|   |   |   |--- sepal length (cm) <= 4.95\n",
            "|   |   |   |   |--- class: 2\n",
            "|   |   |   |--- sepal length (cm) >  4.95\n",
            "|   |   |   |   |--- class: 1\n",
            "|   |   |--- petal length (cm) >  4.95\n",
            "|   |   |   |--- petal width (cm) <= 1.55\n",
            "|   |   |   |   |--- class: 2\n",
            "|   |   |   |--- petal width (cm) >  1.55\n",
            "|   |   |   |   |--- sepal length (cm) <= 6.95\n",
            "|   |   |   |   |   |--- class: 1\n",
            "|   |   |   |   |--- sepal length (cm) >  6.95\n",
            "|   |   |   |   |   |--- class: 2\n",
            "|   |--- petal width (cm) >  1.75\n",
            "|   |   |--- petal length (cm) <= 4.85\n",
            "|   |   |   |--- sepal length (cm) <= 5.95\n",
            "|   |   |   |   |--- class: 1\n",
            "|   |   |   |--- sepal length (cm) >  5.95\n",
            "|   |   |   |   |--- class: 2\n",
            "|   |   |--- petal length (cm) >  4.85\n",
            "|   |   |   |--- class: 2\n",
            "\n"
          ]
        }
      ],
      "source": [
        "from sklearn.tree import export_text\n",
        "r = export_text(model,feature_names = data['feature_names'])\n",
        "print(r)"
      ]
    }
  ],
  "metadata": {
    "kernelspec": {
      "display_name": "Python 3 (ipykernel)",
      "language": "python",
      "name": "python3"
    },
    "language_info": {
      "codemirror_mode": {
        "name": "ipython",
        "version": 3
      },
      "file_extension": ".py",
      "mimetype": "text/x-python",
      "name": "python",
      "nbconvert_exporter": "python",
      "pygments_lexer": "ipython3",
      "version": "3.9.13"
    },
    "colab": {
      "provenance": [],
      "include_colab_link": true
    }
  },
  "nbformat": 4,
  "nbformat_minor": 5
}